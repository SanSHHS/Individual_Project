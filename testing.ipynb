{
 "cells": [
  {
   "cell_type": "code",
   "execution_count": 1,
   "id": "30eae45e",
   "metadata": {},
   "outputs": [
    {
     "ename": "ImportError",
     "evalue": "cannot import name 'MyModel' from partially initialized module 'model' (most likely due to a circular import) (/Users/sylvainhu/Desktop/Master IP/Individual_Project/model.py)",
     "output_type": "error",
     "traceback": [
      "\u001b[0;31m---------------------------------------------------------------------------\u001b[0m",
      "\u001b[0;31mImportError\u001b[0m                               Traceback (most recent call last)",
      "Input \u001b[0;32mIn [1]\u001b[0m, in \u001b[0;36m<cell line: 3>\u001b[0;34m()\u001b[0m\n\u001b[1;32m      1\u001b[0m \u001b[38;5;28;01mimport\u001b[39;00m \u001b[38;5;21;01mnumpy\u001b[39;00m \u001b[38;5;28;01mas\u001b[39;00m \u001b[38;5;21;01mnp\u001b[39;00m\n\u001b[1;32m      2\u001b[0m \u001b[38;5;28;01mimport\u001b[39;00m \u001b[38;5;21;01mmatplotlib\u001b[39;00m\u001b[38;5;21;01m.\u001b[39;00m\u001b[38;5;21;01mpyplot\u001b[39;00m \u001b[38;5;28;01mas\u001b[39;00m \u001b[38;5;21;01mplt\u001b[39;00m\n\u001b[0;32m----> 3\u001b[0m \u001b[38;5;28;01mfrom\u001b[39;00m \u001b[38;5;21;01mmodel\u001b[39;00m \u001b[38;5;28;01mimport\u001b[39;00m \u001b[38;5;241m*\u001b[39m\n",
      "File \u001b[0;32m~/Desktop/Master IP/Individual_Project/model.py:7\u001b[0m, in \u001b[0;36m<module>\u001b[0;34m\u001b[0m\n\u001b[1;32m      5\u001b[0m \u001b[38;5;28;01mimport\u001b[39;00m \u001b[38;5;21;01mnumpy\u001b[39;00m \u001b[38;5;28;01mas\u001b[39;00m \u001b[38;5;21;01mnp\u001b[39;00m\n\u001b[1;32m      6\u001b[0m \u001b[38;5;28;01mimport\u001b[39;00m \u001b[38;5;21;01mmatplotlib\u001b[39;00m\u001b[38;5;21;01m.\u001b[39;00m\u001b[38;5;21;01mpyplot\u001b[39;00m \u001b[38;5;28;01mas\u001b[39;00m \u001b[38;5;21;01mplt\u001b[39;00m\n\u001b[0;32m----> 7\u001b[0m \u001b[38;5;28;01mfrom\u001b[39;00m \u001b[38;5;21;01mdata\u001b[39;00m \u001b[38;5;28;01mimport\u001b[39;00m datacollector\n\u001b[1;32m     11\u001b[0m \u001b[38;5;28;01mclass\u001b[39;00m \u001b[38;5;21;01mMyModel\u001b[39;00m(mesa\u001b[38;5;241m.\u001b[39mModel):\n\u001b[1;32m     12\u001b[0m     \u001b[38;5;124;03m\"\"\"A model with some number of agents.\"\"\"\u001b[39;00m\n",
      "File \u001b[0;32m~/Desktop/Master IP/Individual_Project/data.py:2\u001b[0m, in \u001b[0;36m<module>\u001b[0;34m\u001b[0m\n\u001b[1;32m      1\u001b[0m \u001b[38;5;28;01mfrom\u001b[39;00m \u001b[38;5;21;01mmesa\u001b[39;00m\u001b[38;5;21;01m.\u001b[39;00m\u001b[38;5;21;01mdatacollection\u001b[39;00m \u001b[38;5;28;01mimport\u001b[39;00m DataCollector\n\u001b[0;32m----> 2\u001b[0m \u001b[38;5;28;01mfrom\u001b[39;00m \u001b[38;5;21;01mmodel\u001b[39;00m \u001b[38;5;28;01mimport\u001b[39;00m MyModel\n\u001b[1;32m      3\u001b[0m \u001b[38;5;28;01mfrom\u001b[39;00m \u001b[38;5;21;01magents\u001b[39;00m \u001b[38;5;28;01mimport\u001b[39;00m Players\n\u001b[1;32m      5\u001b[0m \u001b[38;5;28;01mdef\u001b[39;00m \u001b[38;5;21mcount_players\u001b[39m(model):\n",
      "\u001b[0;31mImportError\u001b[0m: cannot import name 'MyModel' from partially initialized module 'model' (most likely due to a circular import) (/Users/sylvainhu/Desktop/Master IP/Individual_Project/model.py)"
     ]
    }
   ],
   "source": [
    "import numpy as np\n",
    "import matplotlib.pyplot as plt\n",
    "from model import *"
   ]
  },
  {
   "cell_type": "code",
   "execution_count": null,
   "id": "d41a6c24",
   "metadata": {},
   "outputs": [],
   "source": [
    "# model = MoneyModel(5, 10, 10)\n",
    "# for i in range(20):\n",
    "#     model.step()"
   ]
  },
  {
   "cell_type": "code",
   "execution_count": null,
   "id": "f6802447",
   "metadata": {},
   "outputs": [],
   "source": [
    "# agent_counts = np.zeros((model.grid.width, model.grid.height))\n",
    "# for cell in model.grid.coord_iter():\n",
    "#     cell_content, x, y = cell\n",
    "#     agent_count = len(cell_content)\n",
    "#     agent_counts[x][y] = agent_count\n",
    "# plt.imshow(agent_counts, interpolation=\"nearest\")\n",
    "# plt.colorbar()"
   ]
  },
  {
   "cell_type": "code",
   "execution_count": null,
   "id": "0cb00275",
   "metadata": {},
   "outputs": [],
   "source": [
    "# empty_model = MyModel(4, 2, 12, 10, 10)\n",
    "# for i in range(10):\n",
    "#     empty_model.step()\n",
    "\n",
    "# if len(model.agents) != 0:\n",
    "#     for player in model.agents:\n",
    "#         print(\"Player\", player.unique_id, \"age:\", player.age)"
   ]
  },
  {
   "cell_type": "markdown",
   "id": "357e8adb",
   "metadata": {},
   "source": [
    "0: 5, 7, 11, 14    The revenue is 138. The number of fan is 69. Spending is 17.31. The budget is 120.69.\n",
    "1: 6, 8, 9, 10, 12, 13, 15.     The revenue is 86. The number of fan is 43. Spending is 6.34. The budget is 79.66.\n",
    "5: value: 0.25 salary: 1.0"
   ]
  },
  {
   "cell_type": "code",
   "execution_count": 3,
   "id": "16bf6221",
   "metadata": {
    "scrolled": true
   },
   "outputs": [
    {
     "ename": "ImportError",
     "evalue": "cannot import name 'datacollector' from partially initialized module 'data' (most likely due to a circular import) (/Users/sylvainhu/Desktop/Master IP/Individual_Project/data.py)",
     "output_type": "error",
     "traceback": [
      "\u001b[0;31m---------------------------------------------------------------------------\u001b[0m",
      "\u001b[0;31mImportError\u001b[0m                               Traceback (most recent call last)",
      "Input \u001b[0;32mIn [3]\u001b[0m, in \u001b[0;36m<cell line: 1>\u001b[0;34m()\u001b[0m\n\u001b[0;32m----> 1\u001b[0m \u001b[38;5;28;01mfrom\u001b[39;00m \u001b[38;5;21;01mdata\u001b[39;00m \u001b[38;5;28;01mimport\u001b[39;00m DataCollector\n\u001b[1;32m      3\u001b[0m \u001b[38;5;66;03m# Create an instance of the model\u001b[39;00m\n\u001b[1;32m      4\u001b[0m empty_model \u001b[38;5;241m=\u001b[39m MyModel(\u001b[38;5;241m4\u001b[39m, \u001b[38;5;241m2\u001b[39m, \u001b[38;5;241m12\u001b[39m, \u001b[38;5;241m10\u001b[39m, \u001b[38;5;241m10\u001b[39m)\n",
      "File \u001b[0;32m~/Desktop/Master IP/Individual_Project/data.py:2\u001b[0m, in \u001b[0;36m<module>\u001b[0;34m\u001b[0m\n\u001b[1;32m      1\u001b[0m \u001b[38;5;28;01mfrom\u001b[39;00m \u001b[38;5;21;01mmesa\u001b[39;00m\u001b[38;5;21;01m.\u001b[39;00m\u001b[38;5;21;01mdatacollection\u001b[39;00m \u001b[38;5;28;01mimport\u001b[39;00m DataCollector\n\u001b[0;32m----> 2\u001b[0m \u001b[38;5;28;01mfrom\u001b[39;00m \u001b[38;5;21;01mmodel\u001b[39;00m \u001b[38;5;28;01mimport\u001b[39;00m MyModel\n\u001b[1;32m      3\u001b[0m \u001b[38;5;28;01mfrom\u001b[39;00m \u001b[38;5;21;01magents\u001b[39;00m \u001b[38;5;28;01mimport\u001b[39;00m Players\n\u001b[1;32m      5\u001b[0m \u001b[38;5;28;01mdef\u001b[39;00m \u001b[38;5;21mcount_players\u001b[39m(model):\n",
      "File \u001b[0;32m~/Desktop/Master IP/Individual_Project/model.py:7\u001b[0m, in \u001b[0;36m<module>\u001b[0;34m\u001b[0m\n\u001b[1;32m      5\u001b[0m \u001b[38;5;28;01mimport\u001b[39;00m \u001b[38;5;21;01mnumpy\u001b[39;00m \u001b[38;5;28;01mas\u001b[39;00m \u001b[38;5;21;01mnp\u001b[39;00m\n\u001b[1;32m      6\u001b[0m \u001b[38;5;28;01mimport\u001b[39;00m \u001b[38;5;21;01mmatplotlib\u001b[39;00m\u001b[38;5;21;01m.\u001b[39;00m\u001b[38;5;21;01mpyplot\u001b[39;00m \u001b[38;5;28;01mas\u001b[39;00m \u001b[38;5;21;01mplt\u001b[39;00m\n\u001b[0;32m----> 7\u001b[0m \u001b[38;5;28;01mfrom\u001b[39;00m \u001b[38;5;21;01mdata\u001b[39;00m \u001b[38;5;28;01mimport\u001b[39;00m datacollector\n\u001b[1;32m     11\u001b[0m \u001b[38;5;28;01mclass\u001b[39;00m \u001b[38;5;21;01mMyModel\u001b[39;00m(mesa\u001b[38;5;241m.\u001b[39mModel):\n\u001b[1;32m     12\u001b[0m     \u001b[38;5;124;03m\"\"\"A model with some number of agents.\"\"\"\u001b[39;00m\n",
      "\u001b[0;31mImportError\u001b[0m: cannot import name 'datacollector' from partially initialized module 'data' (most likely due to a circular import) (/Users/sylvainhu/Desktop/Master IP/Individual_Project/data.py)"
     ]
    }
   ],
   "source": [
    "from data import DataCollector\n",
    "\n",
    "# Create an instance of the model\n",
    "empty_model = MyModel(4, 2, 12, 10, 10)\n",
    "\n",
    "# Create a data collector\n",
    "data_collector = DataCollector(model=empty_model)\n",
    "\n",
    "# Run the simulation and collect data\n",
    "for i in range(10):\n",
    "    empty_model.step()\n",
    "    data_collector.collect()\n",
    "\n",
    "# Access the collected data\n",
    "collected_data = data_collector.get_model_vars_dataframe()\n"
   ]
  },
  {
   "cell_type": "code",
   "execution_count": null,
   "id": "f970579d",
   "metadata": {},
   "outputs": [],
   "source": []
  },
  {
   "cell_type": "code",
   "execution_count": null,
   "id": "130809c8",
   "metadata": {},
   "outputs": [],
   "source": []
  },
  {
   "cell_type": "code",
   "execution_count": null,
   "id": "baaf3da8",
   "metadata": {},
   "outputs": [],
   "source": [
    "from agents import Club, Players, F_Agents\n",
    "from model import MyModel\n",
    "\n",
    "# Create a model\n",
    "model = MyModel(C=2, F=1, P=1, width=10, height=10)\n",
    "\n",
    "# Create a club\n",
    "club = Club(unique_id=0, model=model, type=1)\n",
    "club2 = Club(unique_id=1, model=model, type=2)\n",
    "\n",
    "# Create an agent\n",
    "agent = F_Agents(unique_id=2, model=model, cut=5, network=\"Signed\", n_skills=5)\n",
    "\n",
    "# Create a player\n",
    "player1 = Players(unique_id=3, model=model, age=20, contract=\"Signed\", reputation=5, skill=7)\n",
    "player1.link_agent(agent)\n",
    "player1.join_club(club)\n",
    "player1.step()\n",
    "\n",
    "# Set the budget and spending of the club\n",
    "club.budget = -1000\n",
    "club.set_spending()\n",
    "\n",
    "# Test the sell_player method\n",
    "club.release_player(player1)\n",
    "\n",
    "# Print the updated state of club and player\n",
    "# print(\"Player state after selling:\")\n",
    "# print(\"Player agent:\", player1.F_agent)\n",
    "print(\"Player club:\", player1.contract)\n"
   ]
  },
  {
   "cell_type": "code",
   "execution_count": null,
   "id": "f38ff1ef",
   "metadata": {},
   "outputs": [],
   "source": [
    "thislist = [\"apple\", \"banana\", \"cherry\"]\n",
    "thislist = [1]\n",
    "print(thislist)"
   ]
  },
  {
   "cell_type": "code",
   "execution_count": null,
   "id": "be1312b9",
   "metadata": {},
   "outputs": [],
   "source": []
  }
 ],
 "metadata": {
  "kernelspec": {
   "display_name": "Python 3 (ipykernel)",
   "language": "python",
   "name": "python3"
  },
  "language_info": {
   "codemirror_mode": {
    "name": "ipython",
    "version": 3
   },
   "file_extension": ".py",
   "mimetype": "text/x-python",
   "name": "python",
   "nbconvert_exporter": "python",
   "pygments_lexer": "ipython3",
   "version": "3.9.12"
  }
 },
 "nbformat": 4,
 "nbformat_minor": 5
}
