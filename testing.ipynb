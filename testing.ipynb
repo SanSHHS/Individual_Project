{
 "cells": [
  {
   "cell_type": "code",
   "execution_count": 1,
   "id": "30eae45e",
   "metadata": {},
   "outputs": [],
   "source": [
    "import numpy as np\n",
    "import matplotlib.pyplot as plt\n",
    "from model import *\n",
    "import pandas as pd\n"
   ]
  },
  {
   "cell_type": "code",
   "execution_count": 2,
   "id": "d41a6c24",
   "metadata": {},
   "outputs": [],
   "source": [
    "# model = MoneyModel(5, 10, 10)\n",
    "# for i in range(20):\n",
    "#     model.step()"
   ]
  },
  {
   "cell_type": "markdown",
   "id": "cd2bb712",
   "metadata": {},
   "source": [
    "Allowed debt = 0 - 200\n",
    "Fan = 0 - 100  -> Revenue = 0 - 200\n",
    "Max budget = 400 --  RATIO 1.5475\n",
    "\n",
    "\n",
    "Max salary by a player at init = 10 x 10 / 18 * 10 = 55.56\n",
    "11 X 55.56 = 611\n",
    "\n",
    "4.78\n",
    "\n",
    "Number of fans on social media:\n",
    "\n",
    "Manchester United – 209,4M     \n",
    "Chelsea – 137,2M                \n",
    "Liverpool – 134,7M              \n",
    "Manchester City – 132,9M        \n",
    "Arsenal – 97,8M               \n",
    "Tottenham – 89,3M                \n",
    "Aston Villa – 14,1M\n",
    "West Ham – 13,9M\n",
    "Everton FC – 13,3M\n",
    "Newcastle United – 11M\n",
    "Wolverhampton – 9,9M\n",
    "Crystal Palace – 5,8M\n",
    "Brighton – 5,7M\n",
    "Sheffield United – 4,05M\n",
    "Fulham – 3,5M\n",
    "Nottingham Forest – 3,36M\n",
    "Bournemouth – 3,3M\n",
    "Brentford – 3,24M\n",
    "Burnley – 3M\n",
    "Luton – 1M"
   ]
  },
  {
   "attachments": {},
   "cell_type": "markdown",
   "id": "a999fd3d",
   "metadata": {},
   "source": [
    "\n"
   ]
  },
  {
   "attachments": {},
   "cell_type": "markdown",
   "id": "8248166b",
   "metadata": {},
   "source": []
  },
  {
   "cell_type": "markdown",
   "id": "cc84ccc3",
   "metadata": {},
   "source": [
    "\n"
   ]
  },
  {
   "cell_type": "code",
   "execution_count": 3,
   "id": "0cb00275",
   "metadata": {
    "scrolled": true
   },
   "outputs": [],
   "source": [
    "# empty_model = MyModel(4, 2, 50)\n",
    "# # empty_model = MyModel(98, 10, 1200, 10, 10, (0, 96))\n",
    "\n",
    "# # empty_model.FFP = True\n",
    "\n",
    "\n",
    "# for i in range(120):\n",
    "#     empty_model.step()\n",
    "\n"
   ]
  },
  {
   "cell_type": "code",
   "execution_count": null,
   "id": "c8714822",
   "metadata": {
    "scrolled": true
   },
   "outputs": [],
   "source": []
  },
  {
   "cell_type": "code",
   "execution_count": 4,
   "id": "d408fdf8",
   "metadata": {},
   "outputs": [
    {
     "name": "stderr",
     "output_type": "stream",
     "text": [
      "100%|█████████████████████████████████████████| 100/100 [19:29<00:00, 11.69s/it]\n"
     ]
    }
   ],
   "source": [
    "params={\n",
    "        \"C\": 98,\n",
    "        \"F\": 1,\n",
    "        \"P\": 2000,\n",
    "#         \"width\": 10,\n",
    "#         \"height\": 10,\n",
    "        \"league_range\": [(0, 97)],\n",
    "        \"FFP\": [False, True], \n",
    "    }\n",
    "\n",
    "\n",
    "results = mesa.batch_run(\n",
    "    model_cls=MyModel,\n",
    "    parameters = params,\n",
    "    iterations=50,\n",
    "    max_steps=80,\n",
    "    data_collection_period = 1,  # Collect data at each time step\n",
    "    display_progress=True,\n",
    ")\n",
    "\n",
    "results_df = pd.DataFrame(results)\n"
   ]
  },
  {
   "cell_type": "code",
   "execution_count": 5,
   "id": "201df74c",
   "metadata": {},
   "outputs": [
    {
     "name": "stdout",
     "output_type": "stream",
     "text": [
      "Index(['RunId', 'iteration', 'Step', 'C', 'F', 'P', 'league_range', 'FFP',\n",
      "       'Winner Club', 'Season', 'Average revenue by league',\n",
      "       'Total revenue by league', 'AgentID', 'Club Revenue', 'Team size',\n",
      "       'Name', 'TV', 'Type'],\n",
      "      dtype='object')\n",
      "   RunId  iteration  Step   C  F     P league_range    FFP Winner Club  \\\n",
      "0      0          0     0  98  1  2000      (0, 97)  False        None   \n",
      "1      0          0     1  98  1  2000      (0, 97)  False        None   \n",
      "2      0          0     1  98  1  2000      (0, 97)  False        None   \n",
      "3      0          0     1  98  1  2000      (0, 97)  False        None   \n",
      "4      0          0     1  98  1  2000      (0, 97)  False        None   \n",
      "\n",
      "   Season                          Average revenue by league  \\\n",
      "0       0  {'Premier League': 308.8, 'La Liga': 160.97, '...   \n",
      "1       0  {'Premier League': 308.8, 'La Liga': 160.97, '...   \n",
      "2       0  {'Premier League': 308.8, 'La Liga': 160.97, '...   \n",
      "3       0  {'Premier League': 308.8, 'La Liga': 160.97, '...   \n",
      "4       0  {'Premier League': 308.8, 'La Liga': 160.97, '...   \n",
      "\n",
      "                             Total revenue by league  AgentID  Club Revenue  \\\n",
      "0  {'Premier League': 6176.0, 'La Liga': 3219.5, ...      NaN           NaN   \n",
      "1  {'Premier League': 6176.0, 'La Liga': 3219.5, ...      0.0         599.0   \n",
      "2  {'Premier League': 6176.0, 'La Liga': 3219.5, ...      1.0         603.0   \n",
      "3  {'Premier League': 6176.0, 'La Liga': 3219.5, ...      2.0         667.0   \n",
      "4  {'Premier League': 6176.0, 'La Liga': 3219.5, ...      3.0         601.0   \n",
      "\n",
      "   Team size               Name     TV  Type  \n",
      "0        NaN                NaN    NaN   NaN  \n",
      "1       21.0    Manchester City  179.0   1.0  \n",
      "2       21.0          Liverpool  178.0   1.0  \n",
      "3       21.0  Manchester United  167.0   1.0  \n",
      "4       18.0            Chelsea  171.0   1.0  \n",
      "          RunId  iteration  Step   C  F     P league_range   FFP  \\\n",
      "16792095     99         49    80  98  1  2000      (0, 97)  True   \n",
      "16792096     99         49    80  98  1  2000      (0, 97)  True   \n",
      "16792097     99         49    80  98  1  2000      (0, 97)  True   \n",
      "16792098     99         49    80  98  1  2000      (0, 97)  True   \n",
      "16792099     99         49    80  98  1  2000      (0, 97)  True   \n",
      "\n",
      "              Winner Club  Season  \\\n",
      "16792095  Manchester City      20   \n",
      "16792096  Manchester City      20   \n",
      "16792097  Manchester City      20   \n",
      "16792098  Manchester City      20   \n",
      "16792099  Manchester City      20   \n",
      "\n",
      "                                  Average revenue by league  \\\n",
      "16792095  {'Premier League': 331.65, 'La Liga': 259.82, ...   \n",
      "16792096  {'Premier League': 331.65, 'La Liga': 259.82, ...   \n",
      "16792097  {'Premier League': 331.65, 'La Liga': 259.82, ...   \n",
      "16792098  {'Premier League': 331.65, 'La Liga': 259.82, ...   \n",
      "16792099  {'Premier League': 331.65, 'La Liga': 259.82, ...   \n",
      "\n",
      "                                    Total revenue by league  AgentID  \\\n",
      "16792095  {'Premier League': 6633.0, 'La Liga': 5196.5, ...   5387.0   \n",
      "16792096  {'Premier League': 6633.0, 'La Liga': 5196.5, ...   5388.0   \n",
      "16792097  {'Premier League': 6633.0, 'La Liga': 5196.5, ...   5389.0   \n",
      "16792098  {'Premier League': 6633.0, 'La Liga': 5196.5, ...   5390.0   \n",
      "16792099  {'Premier League': 6633.0, 'La Liga': 5196.5, ...   5391.0   \n",
      "\n",
      "          Club Revenue  Team size  Name  TV  Type  \n",
      "16792095           NaN        NaN  None NaN   NaN  \n",
      "16792096           NaN        NaN  None NaN   NaN  \n",
      "16792097           NaN        NaN  None NaN   NaN  \n",
      "16792098           NaN        NaN  None NaN   NaN  \n",
      "16792099           NaN        NaN  None NaN   NaN  \n",
      "16792100\n"
     ]
    }
   ],
   "source": [
    "print(results_df.keys())\n",
    "print(results_df.head())\n",
    "print(results_df.tail())\n",
    "print(len(results_df))"
   ]
  },
  {
   "cell_type": "code",
   "execution_count": 36,
   "id": "4b3f8c73",
   "metadata": {},
   "outputs": [
    {
     "name": "stdout",
     "output_type": "stream",
     "text": [
      "{'Bundesliga': 29.5}\n",
      "{'Bundesliga': 29.5, 'La Liga': 19.5}\n",
      "{'Bundesliga': 29.5, 'La Liga': 19.5, 'Ligue 1': 23.5}\n",
      "{'Bundesliga': 29.5, 'La Liga': 19.5, 'Ligue 1': 23.5, 'Premier League': 31.75}\n",
      "{'Bundesliga': 29.5, 'La Liga': 19.5, 'Ligue 1': 23.5, 'Premier League': 31.75, 'Serie A': 34.75}\n"
     ]
    },
    {
     "data": {
      "image/png": "[encoded data removed]",
      "text/plain": [
       "<Figure size 864x576 with 1 Axes>"
      ]
     },
     "metadata": {
      "needs_background": "light"
     },
     "output_type": "display_data"
    }
   ],
   "source": [
    "import seaborn as sns\n",
    "import matplotlib.pyplot as plt\n",
    "\n",
    "# Assuming 'agent_id' column exists in results_df\n",
    "club_df = results_df[['TV', 'Name', 'AgentID']].dropna()\n",
    "club_df = club_df.head(98)\n",
    "\n",
    "# Map league names based on agent_id ranges\n",
    "def map_agent_to_league(agent_id):\n",
    "    if 0 <= agent_id <= 19:\n",
    "        return 'Premier League'\n",
    "    elif 20 <= agent_id <= 39:\n",
    "        return 'La Liga'\n",
    "    elif 40 <= agent_id <= 59:\n",
    "        return 'Serie A'\n",
    "    elif 60 <= agent_id <= 77:\n",
    "        return 'Bundesliga'\n",
    "    elif 78 <= agent_id <= 97:\n",
    "        return 'Ligue 1'\n",
    "    else:\n",
    "        return 'Unknown'\n",
    "\n",
    "# Assign league names to the rows based on agent_id\n",
    "club_df['League Name'] = club_df['AgentID'].apply(map_agent_to_league)\n",
    "\n",
    "# Create a figure and axis\n",
    "plt.figure(figsize=(12, 8))\n",
    "\n",
    "ax = sns.boxplot(x='League Name', y='TV', data=club_df)\n",
    "\n",
    "\n",
    "# Create a box plot for each league using Seaborn\n",
    "sns.boxplot(x='League Name', y='TV', data=club_df)\n",
    "\n",
    "# Set labels and title\n",
    "plt.xlabel('League')\n",
    "plt.ylabel('Club TV right')\n",
    "plt.title('Club TV right Box Plot by League')\n",
    "plt.xticks(rotation=45)  # Rotate the x-axis labels for better readability\n",
    "\n",
    "# Calculate the IQR for each league\n",
    "grouped_data = club_df.groupby('League Name')\n",
    "iqr_by_league = {}\n",
    "for league, data in grouped_data:\n",
    "    iqr = data['TV'].quantile(0.75) - data['TV'].quantile(0.25)\n",
    "    iqr_by_league[league] = iqr\n",
    "    print(iqr_by_league)\n",
    "\n",
    "\n",
    "    \n",
    "plt.tight_layout()  # Adjust layout to prevent clipping of labels\n",
    "\n",
    "plt.show()\n",
    "\n"
   ]
  },
  {
   "cell_type": "code",
   "execution_count": 10,
   "id": "44411901",
   "metadata": {},
   "outputs": [
    {
     "name": "stdout",
     "output_type": "stream",
     "text": [
      "Season 0, Average Revenue = {'Premier League': 308.8, 'La Liga': 160.97, 'Serie A': 130.7, 'Bundesliga': 168.83, 'Ligue 1': 98.1}\n"
     ]
    }
   ],
   "source": []
  },
  {
   "cell_type": "code",
   "execution_count": 7,
   "id": "7e898eb5",
   "metadata": {
    "scrolled": true
   },
   "outputs": [
    {
     "name": "stdout",
     "output_type": "stream",
     "text": [
      "              Winner Club  Team size\n",
      "Season                              \n",
      "1               Liverpool       26.0\n",
      "2                     PSG       19.0\n",
      "3       Manchester United       12.0\n",
      "4           Bayern Munich       11.0\n",
      "5       Manchester United       11.0\n",
      "6           Bayern Munich       11.0\n",
      "7               Liverpool       11.0\n",
      "8             Inter Milan       10.0\n",
      "9                 Chelsea       11.0\n",
      "10      Manchester United       11.0\n",
      "11              Liverpool       11.0\n",
      "12      Manchester United       11.0\n",
      "13      Manchester United       27.0\n",
      "14              Liverpool       17.0\n",
      "15                    PSG       28.0\n",
      "16      Manchester United       25.0\n",
      "17      Manchester United       11.0\n",
      "18      Manchester United       16.0\n",
      "19      Manchester United       11.0\n",
      "20          Bayern Munich       14.0\n"
     ]
    }
   ],
   "source": [
    "winners_df = results_df[['Winner Club', 'Season', \"Team size\"]].set_index('Season')\n",
    "winners_df = winners_df.drop(0)\n",
    "winners_df = winners_df[~winners_df.index.duplicated(keep='first')]\n",
    "print(winners_df)\n"
   ]
  },
  {
   "cell_type": "code",
   "execution_count": null,
   "id": "d3a44c84",
   "metadata": {},
   "outputs": [],
   "source": []
  },
  {
   "cell_type": "code",
   "execution_count": null,
   "id": "8febf363",
   "metadata": {},
   "outputs": [],
   "source": []
  },
  {
   "cell_type": "code",
   "execution_count": 8,
   "id": "f18db2ca",
   "metadata": {},
   "outputs": [
    {
     "data": {
      "image/png": "[encoded data removed]",
      "text/plain": [
       "<Figure size 432x288 with 1 Axes>"
      ]
     },
     "metadata": {
      "needs_background": "light"
     },
     "output_type": "display_data"
    }
   ],
   "source": [
    "\n",
    "# Group the data by 'Season' and 'league_range'\n",
    "grouped_data = results_df.groupby(['Season', 'league_range'])\n",
    "\n",
    "# Initialize a dictionary to store total revenue for each league\n",
    "total_revenue_by_league = {}\n",
    "\n",
    "# Iterate through the grouped data to calculate total revenue for each league in the first season\n",
    "for group, data in grouped_data:\n",
    "    season, league_range = group\n",
    "    if season == 0:  # Check if it's the first season (season number starts from 0)\n",
    "        total_revenue = data['Total revenue by league'].iloc[0]  # The total revenue is the same for all clubs in the same league and step\n",
    "        for league, revenue in total_revenue.items():\n",
    "            total_revenue_by_league[league] = total_revenue_by_league.get(league, 0) + revenue\n",
    "\n",
    "# Extracting league names and revenue values\n",
    "leagues = list(total_revenue_by_league.keys())\n",
    "revenues = list(total_revenue_by_league.values())\n",
    "\n",
    "# Plotting the histogram for the first season\n",
    "plt.bar(leagues, revenues)\n",
    "plt.xlabel('Leagues')\n",
    "plt.ylabel('Total Revenue')\n",
    "plt.title('Total Revenue by League (Season 0)')\n",
    "\n",
    "# Adding the total revenue numbers on top of each bar\n",
    "for i, revenue in enumerate(revenues):\n",
    "    plt.text(i, revenue, str(revenue), ha='center', va='bottom')\n",
    "    \n",
    "plt.show()\n"
   ]
  },
  {
   "cell_type": "code",
   "execution_count": 37,
   "id": "d95641cb",
   "metadata": {},
   "outputs": [
    {
     "name": "stdout",
     "output_type": "stream",
     "text": [
      "{'Bundesliga': 88.5}\n",
      "{'Bundesliga': 88.5, 'La Liga': 50.375}\n",
      "{'Bundesliga': 88.5, 'La Liga': 50.375, 'Ligue 1': 47.75}\n",
      "{'Bundesliga': 88.5, 'La Liga': 50.375, 'Ligue 1': 47.75, 'Premier League': 301.75}\n",
      "{'Bundesliga': 88.5, 'La Liga': 50.375, 'Ligue 1': 47.75, 'Premier League': 301.75, 'Serie A': 96.625}\n"
     ]
    },
    {
     "data": {
      "image/png": "[encoded data removed]",
      "text/plain": [
       "<Figure size 864x576 with 1 Axes>"
      ]
     },
     "metadata": {
      "needs_background": "light"
     },
     "output_type": "display_data"
    }
   ],
   "source": [
    "import seaborn as sns\n",
    "import matplotlib.pyplot as plt\n",
    "\n",
    "# Assuming 'agent_id' column exists in results_df\n",
    "club_df = results_df[['Club Revenue', 'Name', 'AgentID']].dropna()\n",
    "club_df = club_df.head(98)\n",
    "\n",
    "# Map league names based on agent_id ranges\n",
    "def map_agent_to_league(agent_id):\n",
    "    if 0 <= agent_id <= 19:\n",
    "        return 'Premier League'\n",
    "    elif 20 <= agent_id <= 39:\n",
    "        return 'La Liga'\n",
    "    elif 40 <= agent_id <= 59:\n",
    "        return 'Serie A'\n",
    "    elif 60 <= agent_id <= 77:\n",
    "        return 'Bundesliga'\n",
    "    elif 78 <= agent_id <= 97:\n",
    "        return 'Ligue 1'\n",
    "    else:\n",
    "        return 'Unknown'\n",
    "\n",
    "# Assign league names to the rows based on agent_id\n",
    "club_df['League Name'] = club_df['AgentID'].apply(map_agent_to_league)\n",
    "\n",
    "# Create a figure and axis\n",
    "plt.figure(figsize=(12, 8))\n",
    "\n",
    "ax = sns.boxplot(x='League Name', y='Club Revenue', data=club_df)\n",
    "\n",
    "\n",
    "# Create a box plot for each league using Seaborn\n",
    "sns.boxplot(x='League Name', y='Club Revenue', data=club_df)\n",
    "\n",
    "# Set labels and title\n",
    "plt.xlabel('League')\n",
    "plt.ylabel('Club Revenue')\n",
    "plt.title('Club Revenue Box Plot by League')\n",
    "plt.xticks(rotation=45)  # Rotate the x-axis labels for better readability\n",
    "\n",
    "# Calculate the IQR for each league\n",
    "grouped_data = club_df.groupby('League Name')\n",
    "iqr_by_league = {}\n",
    "for league, data in grouped_data:\n",
    "    iqr = data['Club Revenue'].quantile(0.75) - data['Club Revenue'].quantile(0.25)\n",
    "    iqr_by_league[league] = iqr\n",
    "    print(iqr_by_league)\n",
    "\n",
    "\n",
    "    \n",
    "plt.tight_layout()  # Adjust layout to prevent clipping of labels\n",
    "\n",
    "plt.show()\n",
    "\n"
   ]
  },
  {
   "cell_type": "code",
   "execution_count": null,
   "id": "59d7fa1d",
   "metadata": {},
   "outputs": [],
   "source": []
  },
  {
   "cell_type": "code",
   "execution_count": null,
   "id": "8112fafb",
   "metadata": {},
   "outputs": [],
   "source": []
  },
  {
   "cell_type": "code",
   "execution_count": null,
   "id": "c8980dad",
   "metadata": {},
   "outputs": [],
   "source": []
  },
  {
   "cell_type": "code",
   "execution_count": null,
   "id": "c7268c5a",
   "metadata": {},
   "outputs": [],
   "source": []
  },
  {
   "cell_type": "code",
   "execution_count": null,
   "id": "37007126",
   "metadata": {},
   "outputs": [],
   "source": []
  }
 ],
 "metadata": {
  "kernelspec": {
   "display_name": "Python 3 (ipykernel)",
   "language": "python",
   "name": "python3"
  },
  "language_info": {
   "codemirror_mode": {
    "name": "ipython",
    "version": 3
   },
   "file_extension": ".py",
   "mimetype": "text/x-python",
   "name": "python",
   "nbconvert_exporter": "python",
   "pygments_lexer": "ipython3",
   "version": "3.9.12"
  }
 },
 "nbformat": 4,
 "nbformat_minor": 5
}
