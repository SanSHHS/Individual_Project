{
 "cells": [
  {
   "cell_type": "code",
   "execution_count": 1,
   "id": "30eae45e",
   "metadata": {},
   "outputs": [],
   "source": [
    "import numpy as np\n",
    "import matplotlib.pyplot as plt\n",
    "from model import *"
   ]
  },
  {
   "cell_type": "code",
   "execution_count": 2,
   "id": "d41a6c24",
   "metadata": {},
   "outputs": [],
   "source": [
    "# model = MoneyModel(5, 10, 10)\n",
    "# for i in range(20):\n",
    "#     model.step()"
   ]
  },
  {
   "cell_type": "code",
   "execution_count": 3,
   "id": "f6802447",
   "metadata": {},
   "outputs": [],
   "source": [
    "# agent_counts = np.zeros((model.grid.width, model.grid.height))\n",
    "# for cell in model.grid.coord_iter():\n",
    "#     cell_content, x, y = cell\n",
    "#     agent_count = len(cell_content)\n",
    "#     agent_counts[x][y] = agent_count\n",
    "# plt.imshow(agent_counts, interpolation=\"nearest\")\n",
    "# plt.colorbar()"
   ]
  },
  {
   "cell_type": "code",
   "execution_count": 4,
   "id": "0cb00275",
   "metadata": {},
   "outputs": [
    {
     "name": "stdout",
     "output_type": "stream",
     "text": [
      "\n",
      "Step: 0\n",
      "Hi, I am player 18. My age is 32. My contract is Signed. My rep is 7. My skill is 10. My value is 32.81 millions. My salary is 21.88.\n",
      "Hi, I am player 15. My age is 34. My contract is Signed. My rep is 6. My skill is 7. My value is 8.65 millions. My salary is 12.35.\n",
      "Hi, I am player 11. My age is 22. My contract is Signed. My rep is 9. My skill is 3. My value is 3.68 millions. My salary is 4.91.\n",
      "Hi, I am player 13. My age is 29. My contract is Signed. My rep is 9. My skill is 5. My value is 7.76 millions. My salary is 6.21.\n",
      "Hi, I am player 17. My age is 21. My contract is Signed. My rep is 5. My skill is 1. My value is 2.62 millions. My salary is 2.38.\n",
      "Hi, I am player 8. My age is 36. My contract is Signed. My rep is 5. My skill is 6. My value is 5.0 millions. My salary is 3.33.\n",
      "Hi, I am player 14. My age is 26. My contract is Signed. My rep is 3. My skill is 10. My value is 19.62 millions. My salary is 11.54.\n",
      "Hi, I am player 7. My age is 27. My contract is Signed. My rep is 3. My skill is 8. My value is 9.78 millions. My salary is 8.89.\n",
      "Hi, I am player 12. My age is 36. My contract is Signed. My rep is 2. My skill is 5. My value is 1.39 millions. My salary is 1.11.\n",
      "Hi, I am player 9. My age is 18. My contract is Signed. My rep is 3. My skill is 10. My value is 28.33 millions. My salary is 6.67.\n",
      "Hi, I am player 10. My age is 19. My contract is Signed. My rep is 1. My skill is 5. My value is 2.37 millions. My salary is 2.63.\n",
      "Hi, I am player 16. My age is 28. My contract is Signed. My rep is 7. My skill is 4. My value is 8.0 millions. My salary is 4.0.\n",
      "Club 0. My type is: 2. My team has player number: 7, 9, 11. The average level is: 7.0. The revenue is 94. The number of fan is 47. Spending is 20.47. The budget is 73.53.\n",
      "Club 1. My type is: 3. My team has player number: 12, 13, 14. The average level is: 6.67. The revenue is 34. The number of fan is 17. Spending is 18.86. The budget is 15.14.\n",
      "Club 3. My type is: 2. My team has player number: 10, 17, 18. The average level is: 5.33. The revenue is 126. The number of fan is 63. Spending is 26.89. The budget is 99.11.\n",
      "Club 2. My type is: 1. My team has player number: 8, 15, 16. The average level is: 5.67. The revenue is 144. The number of fan is 72. Spending is 19.68. The budget is 124.32.\n",
      "Agent 5 money is 2.1.\n",
      "Agent 4 money is 3.57.\n",
      "No players retire!\n",
      "\n",
      "Step: 1\n",
      "Hi, I am player 15. My age is 34. My contract is Signed. My rep is 6. My skill is 7. My value is 8.65 millions. My salary is 12.35.\n",
      "Hi, I am player 17. My age is 21. My contract is Signed. My rep is 5. My skill is 1. My value is 2.62 millions. My salary is 2.38.\n",
      "Hi, I am player 7. My age is 27. My contract is Signed. My rep is 3. My skill is 8. My value is 9.78 millions. My salary is 8.89.\n",
      "Hi, I am player 16. My age is 28. My contract is Signed. My rep is 7. My skill is 4. My value is 8.0 millions. My salary is 4.0.\n",
      "Hi, I am player 12. My age is 36. My contract is Signed. My rep is 2. My skill is 5. My value is 1.39 millions. My salary is 1.11.\n",
      "Hi, I am player 18. My age is 32. My contract is Signed. My rep is 7. My skill is 10. My value is 32.81 millions. My salary is 21.88.\n",
      "Hi, I am player 13. My age is 29. My contract is Signed. My rep is 9. My skill is 5. My value is 7.76 millions. My salary is 6.21.\n",
      "Hi, I am player 11. My age is 22. My contract is Signed. My rep is 9. My skill is 3. My value is 3.68 millions. My salary is 4.91.\n",
      "Hi, I am player 9. My age is 18. My contract is Signed. My rep is 3. My skill is 10. My value is 28.33 millions. My salary is 6.67.\n",
      "Hi, I am player 8. My age is 36. My contract is Signed. My rep is 5. My skill is 6. My value is 5.0 millions. My salary is 3.33.\n",
      "Hi, I am player 10. My age is 19. My contract is Signed. My rep is 1. My skill is 5. My value is 2.37 millions. My salary is 2.63.\n",
      "Hi, I am player 14. My age is 26. My contract is Signed. My rep is 3. My skill is 10. My value is 19.62 millions. My salary is 11.54.\n",
      "Agent 4 money is 3.57.\n",
      "Agent 5 money is 2.1.\n",
      "Club 0. My type is: 2. My team has player number: 7, 9, 11. The average level is: 7.0. The revenue is 94. The number of fan is 47. Spending is 20.47. The budget is 73.53.\n",
      "Club 3. My type is: 2. My team has player number: 10, 17, 18. The average level is: 5.33. The revenue is 126. The number of fan is 63. Spending is 26.89. The budget is 99.11.\n",
      "Club 1. My type is: 3. My team has player number: 12, 13, 14. The average level is: 6.67. The revenue is 34. The number of fan is 17. Spending is 18.86. The budget is 15.14.\n",
      "Club 2. My type is: 1. My team has player number: 8, 15, 16. The average level is: 5.67. The revenue is 144. The number of fan is 72. Spending is 19.68. The budget is 124.32.\n",
      "No players retire!\n",
      "\n",
      "Step: 2\n",
      "Club 0 has average level of 7.0 before transfers\n",
      "Club 1 has average level of 6.67 before transfers\n",
      "Club 2 has average level of 5.67 before transfers\n",
      "Club 3 has average level of 5.33 before transfers\n",
      "Transfer market opens\n"
     ]
    },
    {
     "ename": "AttributeError",
     "evalue": "'MyModel' object has no attribute 'find_target_player'",
     "output_type": "error",
     "traceback": [
      "\u001b[0;31m---------------------------------------------------------------------------\u001b[0m",
      "\u001b[0;31mAttributeError\u001b[0m                            Traceback (most recent call last)",
      "Input \u001b[0;32mIn [4]\u001b[0m, in \u001b[0;36m<cell line: 2>\u001b[0;34m()\u001b[0m\n\u001b[1;32m      1\u001b[0m empty_model \u001b[38;5;241m=\u001b[39m MyModel(\u001b[38;5;241m4\u001b[39m, \u001b[38;5;241m2\u001b[39m, \u001b[38;5;241m12\u001b[39m, \u001b[38;5;241m10\u001b[39m, \u001b[38;5;241m10\u001b[39m)\n\u001b[1;32m      2\u001b[0m \u001b[38;5;28;01mfor\u001b[39;00m i \u001b[38;5;129;01min\u001b[39;00m \u001b[38;5;28mrange\u001b[39m(\u001b[38;5;241m10\u001b[39m):\n\u001b[0;32m----> 3\u001b[0m     \u001b[43mempty_model\u001b[49m\u001b[38;5;241;43m.\u001b[39;49m\u001b[43mstep\u001b[49m\u001b[43m(\u001b[49m\u001b[43m)\u001b[49m\n",
      "File \u001b[0;32m~/Desktop/Master IP/Individual_Project/model.py:53\u001b[0m, in \u001b[0;36mMyModel.step\u001b[0;34m(self)\u001b[0m\n\u001b[1;32m     51\u001b[0m     \u001b[38;5;28mprint\u001b[39m(\u001b[38;5;124m\"\u001b[39m\u001b[38;5;124mTransfer market opens\u001b[39m\u001b[38;5;124m\"\u001b[39m)\n\u001b[1;32m     52\u001b[0m     \u001b[38;5;28mself\u001b[39m\u001b[38;5;241m.\u001b[39mopen_market()\n\u001b[0;32m---> 53\u001b[0m     \u001b[38;5;28;43mself\u001b[39;49m\u001b[38;5;241;43m.\u001b[39;49m\u001b[43mclub_incentives\u001b[49m\u001b[43m(\u001b[49m\u001b[43m)\u001b[49m\n\u001b[1;32m     56\u001b[0m \u001b[38;5;28mself\u001b[39m\u001b[38;5;241m.\u001b[39mschedule\u001b[38;5;241m.\u001b[39mstep()\n\u001b[1;32m     57\u001b[0m \u001b[38;5;28mself\u001b[39m\u001b[38;5;241m.\u001b[39mretire_players()\n",
      "File \u001b[0;32m~/Desktop/Master IP/Individual_Project/model.py:328\u001b[0m, in \u001b[0;36mMyModel.club_incentives\u001b[0;34m(self, target_player)\u001b[0m\n\u001b[1;32m    325\u001b[0m target \u001b[38;5;241m=\u001b[39m \u001b[38;5;28;01mNone\u001b[39;00m\n\u001b[1;32m    327\u001b[0m \u001b[38;5;28;01mif\u001b[39;00m club\u001b[38;5;241m.\u001b[39mtype \u001b[38;5;241m==\u001b[39m \u001b[38;5;241m1\u001b[39m:\n\u001b[0;32m--> 328\u001b[0m     target \u001b[38;5;241m=\u001b[39m \u001b[38;5;28;43mself\u001b[39;49m\u001b[38;5;241;43m.\u001b[39;49m\u001b[43mfind_target_player\u001b[49m(club, target_player, \u001b[38;5;28;01mlambda\u001b[39;00m p: p\u001b[38;5;241m.\u001b[39mskill)\n\u001b[1;32m    329\u001b[0m \u001b[38;5;28;01melif\u001b[39;00m club\u001b[38;5;241m.\u001b[39mtype \u001b[38;5;241m==\u001b[39m \u001b[38;5;241m2\u001b[39m:\n\u001b[1;32m    330\u001b[0m     target \u001b[38;5;241m=\u001b[39m \u001b[38;5;28mself\u001b[39m\u001b[38;5;241m.\u001b[39mfind_target_player(club, target_player, \u001b[38;5;28;01mlambda\u001b[39;00m p: (p\u001b[38;5;241m.\u001b[39mskill, p\u001b[38;5;241m.\u001b[39mpotential))\n",
      "\u001b[0;31mAttributeError\u001b[0m: 'MyModel' object has no attribute 'find_target_player'"
     ]
    }
   ],
   "source": [
    "empty_model = MyModel(4, 2, 12, 10, 10)\n",
    "for i in range(10):\n",
    "    empty_model.step()\n",
    "\n",
    "# if len(model.agents) != 0:\n",
    "#     for player in model.agents:\n",
    "#         print(\"Player\", player.unique_id, \"age:\", player.age)"
   ]
  },
  {
   "cell_type": "markdown",
   "id": "357e8adb",
   "metadata": {},
   "source": [
    "0: 5, 7, 11, 14    The revenue is 138. The number of fan is 69. Spending is 17.31. The budget is 120.69.\n",
    "1: 6, 8, 9, 10, 12, 13, 15.     The revenue is 86. The number of fan is 43. Spending is 6.34. The budget is 79.66.\n",
    "5: value: 0.25 salary: 1.0"
   ]
  },
  {
   "cell_type": "code",
   "execution_count": null,
   "id": "7a79f500",
   "metadata": {
    "scrolled": false
   },
   "outputs": [],
   "source": [
    "# Create an instance of the model\n",
    "model = MyModel(3, 2, 5, 10, 10)\n",
    "\n",
    "# Get a reference to one of the clubs\n",
    "club = model.clubs[0]\n",
    "\n",
    "# Set the club's budget to a negative value\n",
    "club.budget = -100000\n",
    "\n",
    "# Add some players to the club's team\n",
    "player1 = Players(10, model, 20, \"Contract A\", 5, 80)\n",
    "player2 = Players(11, model, 22, \"Contract B\", 6, 85)\n",
    "club.add_player(player1)\n",
    "club.add_player(player2)\n",
    "\n",
    "# Test the sell_player method\n",
    "club.sell_player()\n"
   ]
  },
  {
   "cell_type": "code",
   "execution_count": null,
   "id": "e2e8b367",
   "metadata": {},
   "outputs": [],
   "source": []
  },
  {
   "cell_type": "code",
   "execution_count": null,
   "id": "5f4cf45a",
   "metadata": {},
   "outputs": [],
   "source": []
  }
 ],
 "metadata": {
  "kernelspec": {
   "display_name": "Python 3 (ipykernel)",
   "language": "python",
   "name": "python3"
  },
  "language_info": {
   "codemirror_mode": {
    "name": "ipython",
    "version": 3
   },
   "file_extension": ".py",
   "mimetype": "text/x-python",
   "name": "python",
   "nbconvert_exporter": "python",
   "pygments_lexer": "ipython3",
   "version": "3.9.12"
  }
 },
 "nbformat": 4,
 "nbformat_minor": 5
}
